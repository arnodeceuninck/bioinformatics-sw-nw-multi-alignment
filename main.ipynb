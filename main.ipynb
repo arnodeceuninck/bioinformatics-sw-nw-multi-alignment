{
 "cells": [
  {
   "cell_type": "code",
   "execution_count": 159,
   "metadata": {
    "collapsed": true
   },
   "outputs": [],
   "source": [
    "import numpy as np\n",
    "import itertools\n",
    "\n",
    "\n",
    "class Action:\n",
    "    MATCH = 1\n",
    "    GAP_I = 2\n",
    "    GAP_J = 3\n",
    "    START = 4\n",
    "\n",
    "\n",
    "class MultiSequenceAligner:\n",
    "\n",
    "    def __init__(self,\n",
    "                 match: int = 5,\n",
    "                 mismatch: int = -2,\n",
    "                 indel: int = -4,\n",
    "                 two_gaps: int = 0):\n",
    "        \"\"\"\n",
    "\n",
    "        :param match: Score if AA match\n",
    "        :param mismatch: Score if AA mismatch\n",
    "        :param indel: Linear gap penalty (only applied if there is only one gap)\n",
    "        :param two_gaps: Gap penalty applied if two or more sequences have a gap at given position\n",
    "        \"\"\"\n",
    "        self.match = match\n",
    "        self.mismatch = mismatch\n",
    "        self.indel = indel\n",
    "        self.two_gaps = two_gaps\n",
    "\n",
    "    def get_alignment_matrix(self, sequences: list[str], method: str = \"global\"):\n",
    "        \"\"\"\n",
    "        Returns a matrix of scores for all possible alignments of the given sequences and a backtrack matrix.\n",
    "        :param sequences: List of sequences to align\n",
    "        :param method: Method to use for alignment. Either \"global\" or \"local\"\n",
    "        :return: Matrix of scores for all possible alignments of the given sequences and a backtrack matrix\n",
    "        \"\"\"\n",
    "        assert method in [\"global\", \"local\"], \"Method must be either 'global' or 'local'\"\n",
    "\n",
    "        # Initialize matrix\n",
    "        # n-dimensional matrix where n is the number of sequences, each dimension is the length of the sequence + 1 (for the inital gap)\n",
    "        dimensions = [len(sequence) + 1 for sequence in sequences]\n",
    "        matrix = np.zeros(dimensions)\n",
    "\n",
    "        # Backtrack matrix contains directions, which is a dict for each pair of sequences indicating which action the score came from\n",
    "        # The keys are tuples of the indices of the sequences in the list of sequences\n",
    "        # The values are tuples of the indices of the sequences in the list of sequences and the action that led to the score\n",
    "        backtrack_dimensions = dimensions + [len(sequences)]\n",
    "        backtrack_matrix = np.zeros(backtrack_dimensions)\n",
    "\n",
    "        # Fill matrix\n",
    "        for idx, value in np.ndenumerate(matrix):\n",
    "            matrix[idx], backtrack_matrix[idx] = self._get_score(idx, sequences, matrix, method)\n",
    "\n",
    "        return matrix, backtrack_matrix\n",
    "\n",
    "    def _get_score(self, idx: tuple[int], sequences: list[str], matrix: np.ndarray, method: str):\n",
    "        \"\"\"\n",
    "        Returns the score for the given position in the matrix. The score is s completely analogous to the pairwise\n",
    "        case, only now the scores for each position are equal to the sum of the individual\n",
    "        pairwise comparisons (i.e. a position that is identical for three sequences has a\n",
    "        score of 5s1,s2 + 5s1,s3 + 5s2,s3 = 15).\n",
    "\n",
    "        :param idx: Index of the position in the matrix\n",
    "        :param sequences: List of sequences to align\n",
    "        :param matrix: Partially completed matrix of scores for all possible alignments of the given sequences\n",
    "        \"\"\"\n",
    "        # if idx all zeros, return 0\n",
    "        if all([i == 0 for i in idx]):\n",
    "            return 0, None\n",
    "\n",
    "        num_sequences = len(sequences)\n",
    "        all_neighbours = list(itertools.product([0, -1], repeat=num_sequences))\n",
    "        all_neighbours.remove(tuple([0 for _ in range(num_sequences)]))\n",
    "        neighbours = [tuple(np.array(idx) + np.array(neighbour)) for neighbour in all_neighbours]\n",
    "\n",
    "        # get scores for all neighbours\n",
    "        scores = []\n",
    "        for neighbour in neighbours:\n",
    "\n",
    "            # if any of the indices is negative, return -inf\n",
    "            if any([i < 0 for i in neighbour]):\n",
    "                scores.append(-np.inf)\n",
    "                continue\n",
    "\n",
    "            pairs = self._get_pairs(num_sequences)\n",
    "            total = 0\n",
    "            for i, j in pairs:\n",
    "                score, action = self._get_pairwise_score(neighbour, i, j, matrix, sequences, idx)\n",
    "                total += score\n",
    "            scores.append(score)\n",
    "\n",
    "        max_score = max(scores)\n",
    "        max_idx = scores.index(max_score)\n",
    "        max_score_neighbour = neighbours[max_idx]\n",
    "\n",
    "        if method == \"global\":\n",
    "            return total, max_score_neighbour\n",
    "        elif method == \"local\":\n",
    "            return max(max_score, 0), max_score_neighbour if max_score > 0 else None\n",
    "        else:\n",
    "            raise ValueError(\"Method must be either 'global' or 'local'\")\n",
    "\n",
    "    def _get_pairwise_score(self, neighbour, i, j, matrix, sequences, idx):\n",
    "        neighbour_i = neighbour[i]\n",
    "        neighbour_j = neighbour[j]\n",
    "\n",
    "        idx_i = idx[i]\n",
    "        idx_j = idx[j]\n",
    "\n",
    "        diff_i = idx_i - neighbour_i\n",
    "        diff_j = idx_j - neighbour_j\n",
    "\n",
    "        neighbour_score = matrix[neighbour] if all([neighbour_i >= 0, neighbour_j >= 0]) else -np.inf\n",
    "\n",
    "        # determin the action based on diff_i and diff_j\n",
    "        if diff_i == 1 and diff_j == 1:\n",
    "            action = Action.MATCH\n",
    "        elif diff_i == 1 and diff_j == 0:\n",
    "            action = Action.GAP_J\n",
    "        elif diff_i == 0 and diff_j == 1:\n",
    "            action = Action.GAP_I\n",
    "        elif diff_i == 0 and diff_j == 0:\n",
    "            # insertion somewhere else\n",
    "            return 0, None\n",
    "        else:\n",
    "            raise ValueError(f\"Invalid offset: {diff_i}, {diff_j}\")\n",
    "\n",
    "        if action == Action.MATCH:\n",
    "            # match\n",
    "            aa_i = sequences[i][idx_i-1]\n",
    "            aa_j = sequences[j][idx_j-1]\n",
    "            score = neighbour_score + self.match if aa_i == aa_j else neighbour_score + self.mismatch\n",
    "\n",
    "        elif action == Action.GAP_I:\n",
    "            # gap in j\n",
    "            score = neighbour_score + self.indel\n",
    "        elif action == Action.GAP_J:\n",
    "            # gap in i\n",
    "            score = neighbour_score + self.indel\n",
    "        else:\n",
    "            raise ValueError(\"Invalid offset\")\n",
    "\n",
    "        return score, action\n",
    "\n",
    "\n",
    "    def _get_pairs(self, n):\n",
    "        \"\"\"\n",
    "        Returns all possible pairs of n numbers\n",
    "        :param n: Number of numbers\n",
    "        :return: List of all possible pairs of n numbers\n",
    "        \"\"\"\n",
    "        pairs = []\n",
    "        for i in range(n):\n",
    "            for j in range(i + 1, n):\n",
    "                pairs.append((i, j))\n",
    "        return pairs\n",
    "\n",
    "    def _get_action_combinations(self, n):\n",
    "        actions = [Action.MATCH, Action.GAP_I, Action.GAP_J]\n",
    "        action_combinations = itertools.product(actions, repeat=n)\n",
    "        return action_combinations\n",
    "\n",
    "    def global_alignment(self, sequences: list[str]):\n",
    "        \"\"\"\n",
    "        Returns the optimal global alignment of the given sequences\n",
    "        :param sequences: List of sequences to align\n",
    "        :return: List of aligned sequences\n",
    "        \"\"\"\n",
    "        alignment_matrix, backtrack_matrix = self.get_alignment_matrix(sequences, method=\"global\")\n",
    "        return self._get_alignment(sequences, alignment_matrix, backtrack_matrix, method=\"global\")\n",
    "\n",
    "    def local_alignment(self, sequences: list[str]):\n",
    "        \"\"\"\n",
    "        Returns the optimal local alignment of the given sequences\n",
    "        :param sequences: List of sequences to align\n",
    "        :return: List of aligned sequences\n",
    "        \"\"\"\n",
    "        alignment_matrix, backtrack_matrix = self.get_alignment_matrix(sequences, method=\"local\")\n",
    "        return self._get_alignment(sequences, alignment_matrix, backtrack_matrix, method=\"local\")\n",
    "\n",
    "    def _get_alignment(self, sequences: list[str], alignment_matrix: np.ndarray, backtrack_matrix: np.ndarray,\n",
    "                       method: str):\n",
    "        \"\"\"\n",
    "        Backtraces through the alignment matrix to get the optimal alignment of the given sequences\n",
    "        :param sequences: List of sequences to align\n",
    "        :param alignment_matrix: Matrix of scores for all possible alignments of the given sequences\n",
    "        :param backtrach_matrix: Matrix of backtrach directions for all possible alignments of the given sequences\n",
    "        :param method: Method to use for alignment. Either \"global\" or \"local\"\n",
    "        :return: List of aligned sequences\n",
    "        \"\"\"\n",
    "        aligned_sequences_reversed = [\"\"] * len(sequences)\n",
    "\n",
    "        current_position = [len(sequence) for sequence in sequences]\n",
    "        if method == \"local\":\n",
    "            current_position = np.unravel_index(np.argmax(alignment_matrix), alignment_matrix.shape)\n",
    "\n",
    "        while True:\n",
    "\n",
    "            # change the floats (e.g. 2.000000) in current_position to ints\n",
    "            current_position = [int(i) for i in current_position]\n",
    "            previous_neighbour = backtrack_matrix[tuple(current_position)]\n",
    "\n",
    "            if np.all(np.isnan(previous_neighbour)):\n",
    "                break\n",
    "\n",
    "            for sequence_idx in range(len(sequences)):\n",
    "                if current_position[sequence_idx] == previous_neighbour[sequence_idx]:\n",
    "                    aligned_sequences_reversed[sequence_idx] += \".\"\n",
    "                else:\n",
    "                    aligned_sequences_reversed[sequence_idx] += sequences[sequence_idx][current_position[sequence_idx] - 1]\n",
    "\n",
    "            current_position = previous_neighbour\n",
    "\n",
    "        aligned_sequences = [sequence[::-1] for sequence in aligned_sequences_reversed]\n",
    "        return aligned_sequences\n",
    "\n",
    "    def _get_match_score(self, aa_i: str, aa_j: str):\n",
    "        if aa_i is None or aa_j is None:\n",
    "            return -np.inf\n",
    "        return self.match if aa_i == aa_j else self.mismatch\n",
    "\n"
   ]
  },
  {
   "cell_type": "code",
   "execution_count": 160,
   "outputs": [
    {
     "name": "stdout",
     "output_type": "stream",
     "text": [
      "..ACTGGTCA.\n",
      "CA..GGGTCA.\n",
      "CC..AGGACCA\n"
     ]
    }
   ],
   "source": [
    "aligner = MultiSequenceAligner()\n",
    "alignments = aligner.global_alignment([\"ACTGGTCA\", \"CAGGGTCA\", \"CCAGGACCA\"])\n",
    "print('\\n'.join(alignments))"
   ],
   "metadata": {
    "collapsed": false
   }
  },
  {
   "cell_type": "code",
   "execution_count": 121,
   "outputs": [
    {
     "data": {
      "text/plain": "array([[ 0., -4.],\n       [-4.,  5.]])"
     },
     "execution_count": 121,
     "metadata": {},
     "output_type": "execute_result"
    }
   ],
   "source": [
    "aligner = MultiSequenceAligner()\n",
    "am, bm = aligner.get_alignment_matrix([\"A\", \"A\"], method=\"global\")"
   ],
   "metadata": {
    "collapsed": false
   }
  },
  {
   "cell_type": "code",
   "execution_count": 122,
   "outputs": [
    {
     "data": {
      "text/plain": "array([[[nan, nan],\n        [ 0.,  0.]],\n\n       [[ 0.,  0.],\n        [ 0.,  0.]]])"
     },
     "execution_count": 122,
     "metadata": {},
     "output_type": "execute_result"
    }
   ],
   "source": [],
   "metadata": {
    "collapsed": false
   }
  },
  {
   "cell_type": "code",
   "execution_count": 123,
   "outputs": [
    {
     "data": {
      "text/plain": "array([[ 0., -4.],\n       [-4.,  5.]])"
     },
     "execution_count": 123,
     "metadata": {},
     "output_type": "execute_result"
    }
   ],
   "source": [
    "aligner = MultiSequenceAligner()\n",
    "am, bm = aligner.get_alignment_matrix([\"A\", \"A\"], method=\"global\")\n",
    "am"
   ],
   "metadata": {
    "collapsed": false
   }
  },
  {
   "cell_type": "code",
   "execution_count": 124,
   "outputs": [
    {
     "data": {
      "text/plain": "array([[[nan, nan],\n        [ 0.,  0.]],\n\n       [[ 0.,  0.],\n        [ 0.,  0.]]])"
     },
     "execution_count": 124,
     "metadata": {},
     "output_type": "execute_result"
    }
   ],
   "source": [
    "bm"
   ],
   "metadata": {
    "collapsed": false
   }
  },
  {
   "cell_type": "code",
   "execution_count": 36,
   "outputs": [
    {
     "ename": "TypeError",
     "evalue": "can only concatenate str (not \"NoneType\") to str",
     "output_type": "error",
     "traceback": [
      "\u001B[1;31m---------------------------------------------------------------------------\u001B[0m",
      "\u001B[1;31mTypeError\u001B[0m                                 Traceback (most recent call last)",
      "\u001B[1;32m~\\AppData\\Local\\Temp/ipykernel_25360/3972927409.py\u001B[0m in \u001B[0;36m<module>\u001B[1;34m\u001B[0m\n\u001B[1;32m----> 1\u001B[1;33m \u001B[0malignmets\u001B[0m \u001B[1;33m=\u001B[0m \u001B[0maligner\u001B[0m\u001B[1;33m.\u001B[0m\u001B[0mglobal_alignment\u001B[0m\u001B[1;33m(\u001B[0m\u001B[1;33m[\u001B[0m\u001B[1;34m\"AAC\"\u001B[0m\u001B[1;33m,\u001B[0m \u001B[1;34m\"A\"\u001B[0m\u001B[1;33m]\u001B[0m\u001B[1;33m)\u001B[0m\u001B[1;33m\u001B[0m\u001B[1;33m\u001B[0m\u001B[0m\n\u001B[0m\u001B[0;32m      2\u001B[0m \u001B[0mprint\u001B[0m\u001B[1;33m(\u001B[0m\u001B[1;34m'\\n'\u001B[0m\u001B[1;33m.\u001B[0m\u001B[0mjoin\u001B[0m\u001B[1;33m(\u001B[0m\u001B[0malignmets\u001B[0m\u001B[1;33m)\u001B[0m\u001B[1;33m)\u001B[0m\u001B[1;33m\u001B[0m\u001B[1;33m\u001B[0m\u001B[0m\n",
      "\u001B[1;32m~\\AppData\\Local\\Temp/ipykernel_25360/539738983.py\u001B[0m in \u001B[0;36mglobal_alignment\u001B[1;34m(self, sequences)\u001B[0m\n\u001B[0;32m    155\u001B[0m         \"\"\"\n\u001B[0;32m    156\u001B[0m         \u001B[0malignment_matrix\u001B[0m\u001B[1;33m,\u001B[0m \u001B[0mbacktrack_matrix\u001B[0m \u001B[1;33m=\u001B[0m \u001B[0mself\u001B[0m\u001B[1;33m.\u001B[0m\u001B[0mget_alignment_matrix\u001B[0m\u001B[1;33m(\u001B[0m\u001B[0msequences\u001B[0m\u001B[1;33m,\u001B[0m \u001B[0mmethod\u001B[0m\u001B[1;33m=\u001B[0m\u001B[1;34m\"global\"\u001B[0m\u001B[1;33m)\u001B[0m\u001B[1;33m\u001B[0m\u001B[1;33m\u001B[0m\u001B[0m\n\u001B[1;32m--> 157\u001B[1;33m         \u001B[1;32mreturn\u001B[0m \u001B[0mself\u001B[0m\u001B[1;33m.\u001B[0m\u001B[0m_get_alignment\u001B[0m\u001B[1;33m(\u001B[0m\u001B[0msequences\u001B[0m\u001B[1;33m,\u001B[0m \u001B[0malignment_matrix\u001B[0m\u001B[1;33m,\u001B[0m \u001B[0mbacktrack_matrix\u001B[0m\u001B[1;33m,\u001B[0m \u001B[0mmethod\u001B[0m\u001B[1;33m=\u001B[0m\u001B[1;34m\"global\"\u001B[0m\u001B[1;33m)\u001B[0m\u001B[1;33m\u001B[0m\u001B[1;33m\u001B[0m\u001B[0m\n\u001B[0m\u001B[0;32m    158\u001B[0m \u001B[1;33m\u001B[0m\u001B[0m\n\u001B[0;32m    159\u001B[0m     \u001B[1;32mdef\u001B[0m \u001B[0mlocal_alignment\u001B[0m\u001B[1;33m(\u001B[0m\u001B[0mself\u001B[0m\u001B[1;33m,\u001B[0m \u001B[0msequences\u001B[0m\u001B[1;33m:\u001B[0m \u001B[0mlist\u001B[0m\u001B[1;33m[\u001B[0m\u001B[0mstr\u001B[0m\u001B[1;33m]\u001B[0m\u001B[1;33m)\u001B[0m\u001B[1;33m:\u001B[0m\u001B[1;33m\u001B[0m\u001B[1;33m\u001B[0m\u001B[0m\n",
      "\u001B[1;32m~\\AppData\\Local\\Temp/ipykernel_25360/539738983.py\u001B[0m in \u001B[0;36m_get_alignment\u001B[1;34m(self, sequences, alignment_matrix, backtrack_matrix, method)\u001B[0m\n\u001B[0;32m    207\u001B[0m                 \u001B[1;32melif\u001B[0m \u001B[0maction\u001B[0m \u001B[1;33m==\u001B[0m \u001B[0mAction\u001B[0m\u001B[1;33m.\u001B[0m\u001B[0mGAP_I\u001B[0m\u001B[1;33m:\u001B[0m\u001B[1;33m\u001B[0m\u001B[1;33m\u001B[0m\u001B[0m\n\u001B[0;32m    208\u001B[0m                     \u001B[0maligned_sequences_reversed\u001B[0m\u001B[1;33m[\u001B[0m\u001B[0mi\u001B[0m\u001B[1;33m]\u001B[0m \u001B[1;33m+=\u001B[0m \u001B[1;34m\".\"\u001B[0m\u001B[1;33m\u001B[0m\u001B[1;33m\u001B[0m\u001B[0m\n\u001B[1;32m--> 209\u001B[1;33m                     \u001B[0maligned_sequences_reversed\u001B[0m\u001B[1;33m[\u001B[0m\u001B[0mj\u001B[0m\u001B[1;33m]\u001B[0m \u001B[1;33m+=\u001B[0m \u001B[0maa_j\u001B[0m\u001B[1;33m\u001B[0m\u001B[1;33m\u001B[0m\u001B[0m\n\u001B[0m\u001B[0;32m    210\u001B[0m                     \u001B[0mcurrent_position\u001B[0m\u001B[1;33m[\u001B[0m\u001B[0mi\u001B[0m\u001B[1;33m]\u001B[0m \u001B[1;33m-=\u001B[0m \u001B[1;36m1\u001B[0m\u001B[1;33m\u001B[0m\u001B[1;33m\u001B[0m\u001B[0m\n\u001B[0;32m    211\u001B[0m                 \u001B[1;32melif\u001B[0m \u001B[0maction\u001B[0m \u001B[1;33m==\u001B[0m \u001B[0mAction\u001B[0m\u001B[1;33m.\u001B[0m\u001B[0mGAP_J\u001B[0m\u001B[1;33m:\u001B[0m\u001B[1;33m\u001B[0m\u001B[1;33m\u001B[0m\u001B[0m\n",
      "\u001B[1;31mTypeError\u001B[0m: can only concatenate str (not \"NoneType\") to str"
     ]
    }
   ],
   "source": [],
   "metadata": {
    "collapsed": false
   }
  },
  {
   "cell_type": "code",
   "execution_count": 35,
   "outputs": [
    {
     "data": {
      "text/plain": "array([[ 0., -4., -4., -4.],\n       [-4.,  5.,  1., -3.],\n       [-4.,  1., 10.,  6.],\n       [-4., -3.,  6.,  8.]])"
     },
     "execution_count": 35,
     "metadata": {},
     "output_type": "execute_result"
    }
   ],
   "source": [
    "\n",
    "scores, backtrack = aligner.get_alignment_matrix([\"ABC\", \"ABD\"], method=\"global\")\n",
    "# aligner.get_alignment_matrix([\"ABC\", \"ABD\", \"CAB\"])\n",
    "scores"
   ],
   "metadata": {
    "collapsed": false
   }
  },
  {
   "cell_type": "code",
   "execution_count": 36,
   "outputs": [
    {
     "data": {
      "text/plain": "array([[[[4., 4.],\n         [4., 4.]],\n\n        [[0., 2.],\n         [0., 0.]],\n\n        [[0., 2.],\n         [0., 0.]],\n\n        [[0., 2.],\n         [0., 0.]]],\n\n\n       [[[0., 2.],\n         [0., 0.]],\n\n        [[0., 1.],\n         [0., 0.]],\n\n        [[0., 3.],\n         [0., 0.]],\n\n        [[0., 3.],\n         [0., 0.]]],\n\n\n       [[[0., 3.],\n         [0., 0.]],\n\n        [[0., 2.],\n         [0., 0.]],\n\n        [[0., 1.],\n         [0., 0.]],\n\n        [[0., 3.],\n         [0., 0.]]],\n\n\n       [[[0., 3.],\n         [0., 0.]],\n\n        [[0., 2.],\n         [0., 0.]],\n\n        [[0., 2.],\n         [0., 0.]],\n\n        [[0., 1.],\n         [0., 0.]]]])"
     },
     "execution_count": 36,
     "metadata": {},
     "output_type": "execute_result"
    }
   ],
   "source": [
    "backtrack"
   ],
   "metadata": {
    "collapsed": false
   }
  },
  {
   "cell_type": "code",
   "execution_count": 37,
   "outputs": [
    {
     "ename": "ValueError",
     "evalue": "The truth value of an array with more than one element is ambiguous. Use a.any() or a.all()",
     "output_type": "error",
     "traceback": [
      "\u001B[1;31m---------------------------------------------------------------------------\u001B[0m",
      "\u001B[1;31mValueError\u001B[0m                                Traceback (most recent call last)",
      "\u001B[1;32m~\\AppData\\Local\\Temp/ipykernel_12104/1607444603.py\u001B[0m in \u001B[0;36m<module>\u001B[1;34m\u001B[0m\n\u001B[1;32m----> 1\u001B[1;33m \u001B[0maligner\u001B[0m\u001B[1;33m.\u001B[0m\u001B[0mglobal_alignment\u001B[0m\u001B[1;33m(\u001B[0m\u001B[1;33m[\u001B[0m\u001B[1;34m\"ABC\"\u001B[0m\u001B[1;33m,\u001B[0m \u001B[1;34m\"ABD\"\u001B[0m\u001B[1;33m]\u001B[0m\u001B[1;33m)\u001B[0m\u001B[1;33m\u001B[0m\u001B[1;33m\u001B[0m\u001B[0m\n\u001B[0m",
      "\u001B[1;32m~\\AppData\\Local\\Temp/ipykernel_12104/2623449895.py\u001B[0m in \u001B[0;36mglobal_alignment\u001B[1;34m(self, sequences)\u001B[0m\n\u001B[0;32m    144\u001B[0m         \"\"\"\n\u001B[0;32m    145\u001B[0m         \u001B[0malignment_matrix\u001B[0m\u001B[1;33m,\u001B[0m \u001B[0mbacktrack_matrix\u001B[0m \u001B[1;33m=\u001B[0m \u001B[0mself\u001B[0m\u001B[1;33m.\u001B[0m\u001B[0mget_alignment_matrix\u001B[0m\u001B[1;33m(\u001B[0m\u001B[0msequences\u001B[0m\u001B[1;33m,\u001B[0m \u001B[0mmethod\u001B[0m\u001B[1;33m=\u001B[0m\u001B[1;34m\"global\"\u001B[0m\u001B[1;33m)\u001B[0m\u001B[1;33m\u001B[0m\u001B[1;33m\u001B[0m\u001B[0m\n\u001B[1;32m--> 146\u001B[1;33m         \u001B[1;32mreturn\u001B[0m \u001B[0mself\u001B[0m\u001B[1;33m.\u001B[0m\u001B[0m_get_alignment\u001B[0m\u001B[1;33m(\u001B[0m\u001B[0msequences\u001B[0m\u001B[1;33m,\u001B[0m \u001B[0malignment_matrix\u001B[0m\u001B[1;33m,\u001B[0m \u001B[0mbacktrack_matrix\u001B[0m\u001B[1;33m,\u001B[0m \u001B[0mmethod\u001B[0m\u001B[1;33m=\u001B[0m\u001B[1;34m\"global\"\u001B[0m\u001B[1;33m)\u001B[0m\u001B[1;33m\u001B[0m\u001B[1;33m\u001B[0m\u001B[0m\n\u001B[0m\u001B[0;32m    147\u001B[0m \u001B[1;33m\u001B[0m\u001B[0m\n\u001B[0;32m    148\u001B[0m     \u001B[1;32mdef\u001B[0m \u001B[0mlocal_alignment\u001B[0m\u001B[1;33m(\u001B[0m\u001B[0mself\u001B[0m\u001B[1;33m,\u001B[0m \u001B[0msequences\u001B[0m\u001B[1;33m:\u001B[0m \u001B[0mlist\u001B[0m\u001B[1;33m[\u001B[0m\u001B[0mstr\u001B[0m\u001B[1;33m]\u001B[0m\u001B[1;33m)\u001B[0m\u001B[1;33m:\u001B[0m\u001B[1;33m\u001B[0m\u001B[1;33m\u001B[0m\u001B[0m\n",
      "\u001B[1;32m~\\AppData\\Local\\Temp/ipykernel_12104/2623449895.py\u001B[0m in \u001B[0;36m_get_alignment\u001B[1;34m(self, sequences, alignment_matrix, backtrack_matrix, method)\u001B[0m\n\u001B[0;32m    174\u001B[0m \u001B[1;33m\u001B[0m\u001B[0m\n\u001B[0;32m    175\u001B[0m             \u001B[1;31m# if all actions are start, we are done\u001B[0m\u001B[1;33m\u001B[0m\u001B[1;33m\u001B[0m\u001B[0m\n\u001B[1;32m--> 176\u001B[1;33m             \u001B[1;32mif\u001B[0m \u001B[0mall\u001B[0m\u001B[1;33m(\u001B[0m\u001B[1;33m[\u001B[0m\u001B[0maction\u001B[0m \u001B[1;33m==\u001B[0m \u001B[0mAction\u001B[0m\u001B[1;33m.\u001B[0m\u001B[0mSTART\u001B[0m \u001B[1;32mfor\u001B[0m \u001B[0maction\u001B[0m \u001B[1;32min\u001B[0m \u001B[0mactions\u001B[0m\u001B[1;33m]\u001B[0m\u001B[1;33m)\u001B[0m\u001B[1;33m:\u001B[0m\u001B[1;33m\u001B[0m\u001B[1;33m\u001B[0m\u001B[0m\n\u001B[0m\u001B[0;32m    177\u001B[0m                 \u001B[1;32mbreak\u001B[0m\u001B[1;33m\u001B[0m\u001B[1;33m\u001B[0m\u001B[0m\n\u001B[0;32m    178\u001B[0m \u001B[1;33m\u001B[0m\u001B[0m\n",
      "\u001B[1;31mValueError\u001B[0m: The truth value of an array with more than one element is ambiguous. Use a.any() or a.all()"
     ]
    }
   ],
   "source": [],
   "metadata": {
    "collapsed": false
   }
  },
  {
   "cell_type": "code",
   "execution_count": 54,
   "outputs": [
    {
     "ename": "TypeError",
     "evalue": "'tuple' object does not support item assignment",
     "output_type": "error",
     "traceback": [
      "\u001B[1;31m---------------------------------------------------------------------------\u001B[0m",
      "\u001B[1;31mTypeError\u001B[0m                                 Traceback (most recent call last)",
      "\u001B[1;32m~\\AppData\\Local\\Temp/ipykernel_12104/1212367007.py\u001B[0m in \u001B[0;36m<module>\u001B[1;34m\u001B[0m\n\u001B[0;32m      1\u001B[0m \u001B[0ma\u001B[0m \u001B[1;33m=\u001B[0m \u001B[1;33m(\u001B[0m\u001B[1;36m1\u001B[0m\u001B[1;33m,\u001B[0m \u001B[1;36m2\u001B[0m\u001B[1;33m)\u001B[0m\u001B[1;33m\u001B[0m\u001B[1;33m\u001B[0m\u001B[0m\n\u001B[1;32m----> 2\u001B[1;33m \u001B[0ma\u001B[0m\u001B[1;33m[\u001B[0m\u001B[1;36m0\u001B[0m\u001B[1;33m]\u001B[0m \u001B[1;33m+=\u001B[0m \u001B[1;36m1\u001B[0m\u001B[1;33m\u001B[0m\u001B[1;33m\u001B[0m\u001B[0m\n\u001B[0m\u001B[0;32m      3\u001B[0m \u001B[0ma\u001B[0m\u001B[1;33m\u001B[0m\u001B[1;33m\u001B[0m\u001B[0m\n",
      "\u001B[1;31mTypeError\u001B[0m: 'tuple' object does not support item assignment"
     ]
    }
   ],
   "source": [
    "a = (1, 2)\n",
    "a[0] += 1\n",
    "a"
   ],
   "metadata": {
    "collapsed": false
   }
  },
  {
   "cell_type": "code",
   "execution_count": null,
   "outputs": [],
   "source": [],
   "metadata": {
    "collapsed": false
   }
  }
 ],
 "metadata": {
  "kernelspec": {
   "display_name": "Python 3",
   "language": "python",
   "name": "python3"
  },
  "language_info": {
   "codemirror_mode": {
    "name": "ipython",
    "version": 2
   },
   "file_extension": ".py",
   "mimetype": "text/x-python",
   "name": "python",
   "nbconvert_exporter": "python",
   "pygments_lexer": "ipython2",
   "version": "2.7.6"
  }
 },
 "nbformat": 4,
 "nbformat_minor": 0
}
