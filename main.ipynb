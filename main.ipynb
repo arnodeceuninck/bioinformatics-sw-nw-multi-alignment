{
 "cells": [
  {
   "cell_type": "code",
   "execution_count": 82,
   "metadata": {
    "collapsed": true
   },
   "outputs": [],
   "source": [
    "import numpy as np\n",
    "\n",
    "\n",
    "class Action:\n",
    "    MATCH = 1\n",
    "    GAP_I = 2\n",
    "    GAP_J = 3\n",
    "    START = 4\n",
    "\n",
    "    @staticmethod\n",
    "    def fix_upper_action_matrix(action_matrix):\n",
    "        \"\"\"\n",
    "        Make the lower triangular matrix equal to the upper triangular matrix, but with GAP_I and GAP_J swapped.\n",
    "        \"\"\"\n",
    "        lower_matrix = np.triu(action_matrix).T\n",
    "\n",
    "        # swap GAP_I and GAP_J\n",
    "        pos_i = np.where(lower_matrix == Action.GAP_I)\n",
    "        pos_j = np.where(lower_matrix == Action.GAP_J)\n",
    "        lower_matrix[pos_i] = Action.GAP_J\n",
    "        lower_matrix[pos_j] = Action.GAP_I\n",
    "\n",
    "        return action_matrix + lower_matrix\n",
    "\n",
    "\n",
    "class MultiSequenceAligner:\n",
    "\n",
    "    def __init__(self,\n",
    "                 match: int = 5,\n",
    "                 mismatch: int = -2,\n",
    "                 indel: int = -4,\n",
    "                 two_gaps: int = 0):\n",
    "        \"\"\"\n",
    "\n",
    "        :param match: Score if AA match\n",
    "        :param mismatch: Score if AA mismatch\n",
    "        :param indel: Linear gap penalty (only applied if there is only one gap)\n",
    "        :param two_gaps: Gap penalty applied if two or more sequences have a gap at given position\n",
    "        \"\"\"\n",
    "        self.match = match\n",
    "        self.mismatch = mismatch\n",
    "        self.indel = indel\n",
    "        self.two_gaps = two_gaps\n",
    "\n",
    "    def get_alignment_matrix(self, sequences: list[str], method: str = \"global\"):\n",
    "        \"\"\"\n",
    "        Returns a matrix of scores for all possible alignments of the given sequences and a backtrack matrix.\n",
    "        :param sequences: List of sequences to align\n",
    "        :param method: Method to use for alignment. Either \"global\" or \"local\"\n",
    "        :return: Matrix of scores for all possible alignments of the given sequences and a backtrack matrix\n",
    "        \"\"\"\n",
    "        assert method in [\"global\", \"local\"], \"Method must be either 'global' or 'local'\"\n",
    "\n",
    "        # Initialize matrix\n",
    "        # n-dimensional matrix where n is the number of sequences, each dimension is the length of the sequence + 1 (for the inital gap)\n",
    "        dimensions = [len(sequence) + 1 for sequence in sequences]\n",
    "        matrix = np.zeros(dimensions)\n",
    "\n",
    "        # Backtrack matrix contains directions, which is a dict for each pair of sequences indicating which action the score came from\n",
    "        # The keys are tuples of the indices of the sequences in the list of sequences\n",
    "        # The values are tuples of the indices of the sequences in the list of sequences and the action that led to the score\n",
    "        backtrack_dimensions = dimensions + [len(sequences), len(sequences)]\n",
    "        backtrack_matrix = np.zeros(backtrack_dimensions)\n",
    "\n",
    "        # Fill matrix\n",
    "        for idx, value in np.ndenumerate(matrix):\n",
    "            matrix[idx], backtrack_matrix[idx] = self._get_score(idx, sequences, matrix, method)\n",
    "\n",
    "        return matrix, backtrack_matrix\n",
    "\n",
    "    def _get_score(self, idx: tuple[int], sequences: list[str], matrix: np.ndarray, method: str):\n",
    "        \"\"\"\n",
    "        Returns the score for the given position in the matrix. The score is s completely analogous to the pairwise\n",
    "        case, only now the scores for each position are equal to the sum of the individual\n",
    "        pairwise comparisons (i.e. a position that is identical for three sequences has a\n",
    "        score of 5s1,s2 + 5s1,s3 + 5s2,s3 = 15).\n",
    "\n",
    "        :param idx: Index of the position in the matrix\n",
    "        :param sequences: List of sequences to align\n",
    "        :param matrix: Partially completed matrix of scores for all possible alignments of the given sequences\n",
    "        \"\"\"\n",
    "        # if idx all zeros, return 0\n",
    "        if all([i == 0 for i in idx]):\n",
    "            # backtrack direction is start for all\n",
    "            backtrack_directions = np.full((len(sequences), len(sequences)), Action.START)\n",
    "            return 0, backtrack_directions\n",
    "\n",
    "        # Get all possible pairwise combinations\n",
    "        total_sequences = len(sequences)\n",
    "        pairwise_combinations = [(i, j) for i in range(total_sequences) for j in range(i + 1, total_sequences)]\n",
    "\n",
    "        backtrack_directions = np.zeros((total_sequences, total_sequences))\n",
    "\n",
    "        # Get scores for all pairwise combinations\n",
    "        total = 0\n",
    "        for i, j in pairwise_combinations:\n",
    "            pairwise_matrix = self._get_pairwise_matrix(i, j, idx, matrix, sequences)\n",
    "            score, action = self._get_pairwise_score(idx, sequences, pairwise_matrix, i, j)\n",
    "            total += score\n",
    "            backtrack_directions[i, j] = action\n",
    "\n",
    "        # create a full matrix from the upper triangular matrix\n",
    "        backtrack_directions = Action.fix_upper_action_matrix(backtrack_directions)\n",
    "\n",
    "        if method == \"global\":\n",
    "            return total, backtrack_directions\n",
    "        elif method == \"local\":\n",
    "            # backtrack direction is start for all\n",
    "            backtrack_directions = np.full((len(sequences), len(sequences)), Action.START)\n",
    "            return max(total, 0), backtrack_directions\n",
    "        else:\n",
    "            raise ValueError(\"Method must be either 'global' or 'local'\")\n",
    "\n",
    "    def _get_pairwise_matrix(self, i, j, idx, matrix, sequences):\n",
    "        # create a pairwise_matrix, which is the 2D matrix for i and j, for all other indices, use the idx value\n",
    "        pairwise_matrix = np.zeros((len(sequences[i]) + 1, len(sequences[j]) + 1))\n",
    "        for idx_i, idx_j in np.ndindex(pairwise_matrix.shape):\n",
    "            new_idx = list(idx)\n",
    "            new_idx[i] = idx_i\n",
    "            new_idx[j] = idx_j\n",
    "            pairwise_matrix[idx_i, idx_j] = matrix[tuple(new_idx)]\n",
    "        return pairwise_matrix\n",
    "\n",
    "    def _get_pairwise_score(self, idx: tuple[int], sequences: list[str], pairwise_matrix: np.ndarray, i: int, j: int):\n",
    "        \"\"\"\n",
    "        Returns the score for the given pairs at given position in the matrix. This is similar to the Needleman-Wunsch and Smith-Waterman algorithms. This assigns the max of following  scores to S(i, j) (for global alignment, same for local alignment, but all scores would be set to max(0, score)):\n",
    "        - S(i-1, j-1) + s(ai, bj)\n",
    "        - S(i-1, j) - w  (gap in sequence 1)\n",
    "        - S(i, j-1) - w  (gap in sequence 2)\n",
    "        Note that i and j are the indices of the sequences in the list of sequences, not the indices of the position in the matrix.\n",
    "\n",
    "        :param idx: Index of the position in the matrix\n",
    "        :param sequences: List of sequences to align\n",
    "        :param matrix: Partially completeed matrix of scores for all possible alignments of the given pair\n",
    "        :param i: Index of the first sequence in the pair\n",
    "        :param j: Index of the second sequence in the pair\n",
    "        \"\"\"\n",
    "        # get the amino acids at the given position\n",
    "        seq_i = sequences[i]\n",
    "        seq_j = sequences[j]\n",
    "        aa_i = seq_i[idx[i] - 1] if idx[\n",
    "                                        i] > 0 else None  # -1 because the matrix has an extra row and column for the initial gap\n",
    "        aa_j = seq_j[idx[j] - 1] if idx[j] > 0 else None\n",
    "\n",
    "        idx_i = idx[i]\n",
    "        idx_j = idx[j]\n",
    "\n",
    "        # get the scores for the three possible cases\n",
    "        previous_score = pairwise_matrix[(idx_i - 1, idx_j - 1)] if idx_i > 0 and idx_j > 0 else -np.inf\n",
    "\n",
    "        match_score = previous_score + self._get_match_score(aa_i, aa_j)\n",
    "        gap_i_score = pairwise_matrix[(idx_i - 1, idx_j)] + self.indel if idx_i > 0 else self.indel\n",
    "        gap_j_score = pairwise_matrix[(idx_i, idx_j - 1)] + self.indel if idx_j > 0 else self.indel\n",
    "        # TODO: two gaps score\n",
    "\n",
    "        # get the score for the current position\n",
    "        score = max(match_score, gap_i_score, gap_j_score)\n",
    "\n",
    "        if score == match_score:\n",
    "            action = Action.MATCH\n",
    "        elif score == gap_i_score:\n",
    "            action = Action.GAP_I\n",
    "        elif score == gap_j_score:\n",
    "            action = Action.GAP_J\n",
    "\n",
    "        return score, action\n",
    "\n",
    "    def global_alignment(self, sequences: list[str]):\n",
    "        \"\"\"\n",
    "        Returns the optimal global alignment of the given sequences\n",
    "        :param sequences: List of sequences to align\n",
    "        :return: List of aligned sequences\n",
    "        \"\"\"\n",
    "        alignment_matrix, backtrack_matrix = self.get_alignment_matrix(sequences, method=\"global\")\n",
    "        return self._get_alignment(sequences, alignment_matrix, backtrack_matrix, method=\"global\")\n",
    "\n",
    "    def local_alignment(self, sequences: list[str]):\n",
    "        \"\"\"\n",
    "        Returns the optimal local alignment of the given sequences\n",
    "        :param sequences: List of sequences to align\n",
    "        :return: List of aligned sequences\n",
    "        \"\"\"\n",
    "        alignment_matrix, backtrack_matrix = self.get_alignment_matrix(sequences, method=\"local\")\n",
    "        return self._get_alignment(sequences, alignment_matrix, backtrack_matrix, method=\"local\")\n",
    "\n",
    "    def _get_alignment(self, sequences: list[str], alignment_matrix: np.ndarray, backtrack_matrix: np.ndarray,\n",
    "                       method: str):\n",
    "        \"\"\"\n",
    "        Backtraces through the alignment matrix to get the optimal alignment of the given sequences\n",
    "        :param sequences: List of sequences to align\n",
    "        :param alignment_matrix: Matrix of scores for all possible alignments of the given sequences\n",
    "        :param backtrach_matrix: Matrix of backtrach directions for all possible alignments of the given sequences\n",
    "        :param method: Method to use for alignment. Either \"global\" or \"local\"\n",
    "        :return: List of aligned sequences\n",
    "        \"\"\"\n",
    "        aligned_sequences_reversed = [\"\"] * len(sequences)\n",
    "\n",
    "        current_position = [len(sequence) for sequence in sequences]\n",
    "        if method == \"local\":\n",
    "            current_position = np.unravel_index(np.argmax(alignment_matrix), alignment_matrix.shape)\n",
    "\n",
    "        while True:\n",
    "            print(current_position)\n",
    "            score_actions = backtrack_matrix[tuple(current_position)]\n",
    "\n",
    "            # if all actions are start, we are done\n",
    "            if np.all(score_actions == Action.START):\n",
    "                break\n",
    "\n",
    "            # if there is a match, add the amino acid to the aligned sequence\n",
    "            for i, sequence in enumerate(sequences):\n",
    "                actions = score_actions[i]\n",
    "\n",
    "                match_count = np.sum(actions == Action.MATCH)\n",
    "                gapi_count = np.sum(actions == Action.GAP_I)\n",
    "                gapj_count = np.sum(actions == Action.GAP_J)\n",
    "\n",
    "                aa_idx =  current_position[i] - 1\n",
    "\n",
    "                if match_count >= gapi_count and match_count >= gapj_count and aa_idx >= 0:\n",
    "                    aligned_sequences_reversed[i] += sequence[aa_idx]\n",
    "                    current_position[i] -= 1\n",
    "                elif gapi_count >= gapj_count and current_position[i] > 0:\n",
    "                    aligned_sequences_reversed[i] += \".\"\n",
    "                    # current_position[i] -= 1\n",
    "                else:\n",
    "                    aligned_sequences_reversed[i] += \".\"\n",
    "                    current_position[i] -= 1\n",
    "\n",
    "\n",
    "        aligned_sequences = [sequence[::-1] for sequence in aligned_sequences_reversed]\n",
    "        return aligned_sequences\n",
    "\n",
    "    def _get_match_score(self, aa_i: str, aa_j: str):\n",
    "        if aa_i is None or aa_j is None:\n",
    "            return -np.inf\n",
    "        return self.match if aa_i == aa_j else self.mismatch\n"
   ]
  },
  {
   "cell_type": "code",
   "execution_count": 83,
   "outputs": [
    {
     "name": "stdout",
     "output_type": "stream",
     "text": [
      "[3, 1, 1]\n",
      "[2, 0, 0]\n",
      "[1, -1, -1]\n",
      "[0, -2, -2]\n",
      "A.C\n",
      "..A\n",
      "..A\n"
     ]
    }
   ],
   "source": [
    "aligner = MultiSequenceAligner()\n",
    "alignmets = aligner.global_alignment([\"ABC\", \"A\", \"A\"])\n",
    "print('\\n'.join(alignmets))"
   ],
   "metadata": {
    "collapsed": false
   }
  },
  {
   "cell_type": "code",
   "execution_count": 32,
   "outputs": [
    {
     "data": {
      "text/plain": "array([[ 0., -4.],\n       [-4.,  5.]])"
     },
     "execution_count": 32,
     "metadata": {},
     "output_type": "execute_result"
    }
   ],
   "source": [
    "aligner = MultiSequenceAligner()\n",
    "am, bm = aligner.get_alignment_matrix([\"A\", \"A\"], method=\"global\")\n",
    "am"
   ],
   "metadata": {
    "collapsed": false
   }
  },
  {
   "cell_type": "code",
   "execution_count": 33,
   "outputs": [
    {
     "data": {
      "text/plain": "array([[[[4., 4.],\n         [4., 4.]],\n\n        [[0., 2.],\n         [0., 0.]]],\n\n\n       [[[0., 2.],\n         [0., 0.]],\n\n        [[0., 1.],\n         [0., 0.]]]])"
     },
     "execution_count": 33,
     "metadata": {},
     "output_type": "execute_result"
    }
   ],
   "source": [
    "bm"
   ],
   "metadata": {
    "collapsed": false
   }
  },
  {
   "cell_type": "code",
   "execution_count": 36,
   "outputs": [
    {
     "ename": "TypeError",
     "evalue": "can only concatenate str (not \"NoneType\") to str",
     "output_type": "error",
     "traceback": [
      "\u001B[1;31m---------------------------------------------------------------------------\u001B[0m",
      "\u001B[1;31mTypeError\u001B[0m                                 Traceback (most recent call last)",
      "\u001B[1;32m~\\AppData\\Local\\Temp/ipykernel_25360/3972927409.py\u001B[0m in \u001B[0;36m<module>\u001B[1;34m\u001B[0m\n\u001B[1;32m----> 1\u001B[1;33m \u001B[0malignmets\u001B[0m \u001B[1;33m=\u001B[0m \u001B[0maligner\u001B[0m\u001B[1;33m.\u001B[0m\u001B[0mglobal_alignment\u001B[0m\u001B[1;33m(\u001B[0m\u001B[1;33m[\u001B[0m\u001B[1;34m\"AAC\"\u001B[0m\u001B[1;33m,\u001B[0m \u001B[1;34m\"A\"\u001B[0m\u001B[1;33m]\u001B[0m\u001B[1;33m)\u001B[0m\u001B[1;33m\u001B[0m\u001B[1;33m\u001B[0m\u001B[0m\n\u001B[0m\u001B[0;32m      2\u001B[0m \u001B[0mprint\u001B[0m\u001B[1;33m(\u001B[0m\u001B[1;34m'\\n'\u001B[0m\u001B[1;33m.\u001B[0m\u001B[0mjoin\u001B[0m\u001B[1;33m(\u001B[0m\u001B[0malignmets\u001B[0m\u001B[1;33m)\u001B[0m\u001B[1;33m)\u001B[0m\u001B[1;33m\u001B[0m\u001B[1;33m\u001B[0m\u001B[0m\n",
      "\u001B[1;32m~\\AppData\\Local\\Temp/ipykernel_25360/539738983.py\u001B[0m in \u001B[0;36mglobal_alignment\u001B[1;34m(self, sequences)\u001B[0m\n\u001B[0;32m    155\u001B[0m         \"\"\"\n\u001B[0;32m    156\u001B[0m         \u001B[0malignment_matrix\u001B[0m\u001B[1;33m,\u001B[0m \u001B[0mbacktrack_matrix\u001B[0m \u001B[1;33m=\u001B[0m \u001B[0mself\u001B[0m\u001B[1;33m.\u001B[0m\u001B[0mget_alignment_matrix\u001B[0m\u001B[1;33m(\u001B[0m\u001B[0msequences\u001B[0m\u001B[1;33m,\u001B[0m \u001B[0mmethod\u001B[0m\u001B[1;33m=\u001B[0m\u001B[1;34m\"global\"\u001B[0m\u001B[1;33m)\u001B[0m\u001B[1;33m\u001B[0m\u001B[1;33m\u001B[0m\u001B[0m\n\u001B[1;32m--> 157\u001B[1;33m         \u001B[1;32mreturn\u001B[0m \u001B[0mself\u001B[0m\u001B[1;33m.\u001B[0m\u001B[0m_get_alignment\u001B[0m\u001B[1;33m(\u001B[0m\u001B[0msequences\u001B[0m\u001B[1;33m,\u001B[0m \u001B[0malignment_matrix\u001B[0m\u001B[1;33m,\u001B[0m \u001B[0mbacktrack_matrix\u001B[0m\u001B[1;33m,\u001B[0m \u001B[0mmethod\u001B[0m\u001B[1;33m=\u001B[0m\u001B[1;34m\"global\"\u001B[0m\u001B[1;33m)\u001B[0m\u001B[1;33m\u001B[0m\u001B[1;33m\u001B[0m\u001B[0m\n\u001B[0m\u001B[0;32m    158\u001B[0m \u001B[1;33m\u001B[0m\u001B[0m\n\u001B[0;32m    159\u001B[0m     \u001B[1;32mdef\u001B[0m \u001B[0mlocal_alignment\u001B[0m\u001B[1;33m(\u001B[0m\u001B[0mself\u001B[0m\u001B[1;33m,\u001B[0m \u001B[0msequences\u001B[0m\u001B[1;33m:\u001B[0m \u001B[0mlist\u001B[0m\u001B[1;33m[\u001B[0m\u001B[0mstr\u001B[0m\u001B[1;33m]\u001B[0m\u001B[1;33m)\u001B[0m\u001B[1;33m:\u001B[0m\u001B[1;33m\u001B[0m\u001B[1;33m\u001B[0m\u001B[0m\n",
      "\u001B[1;32m~\\AppData\\Local\\Temp/ipykernel_25360/539738983.py\u001B[0m in \u001B[0;36m_get_alignment\u001B[1;34m(self, sequences, alignment_matrix, backtrack_matrix, method)\u001B[0m\n\u001B[0;32m    207\u001B[0m                 \u001B[1;32melif\u001B[0m \u001B[0maction\u001B[0m \u001B[1;33m==\u001B[0m \u001B[0mAction\u001B[0m\u001B[1;33m.\u001B[0m\u001B[0mGAP_I\u001B[0m\u001B[1;33m:\u001B[0m\u001B[1;33m\u001B[0m\u001B[1;33m\u001B[0m\u001B[0m\n\u001B[0;32m    208\u001B[0m                     \u001B[0maligned_sequences_reversed\u001B[0m\u001B[1;33m[\u001B[0m\u001B[0mi\u001B[0m\u001B[1;33m]\u001B[0m \u001B[1;33m+=\u001B[0m \u001B[1;34m\".\"\u001B[0m\u001B[1;33m\u001B[0m\u001B[1;33m\u001B[0m\u001B[0m\n\u001B[1;32m--> 209\u001B[1;33m                     \u001B[0maligned_sequences_reversed\u001B[0m\u001B[1;33m[\u001B[0m\u001B[0mj\u001B[0m\u001B[1;33m]\u001B[0m \u001B[1;33m+=\u001B[0m \u001B[0maa_j\u001B[0m\u001B[1;33m\u001B[0m\u001B[1;33m\u001B[0m\u001B[0m\n\u001B[0m\u001B[0;32m    210\u001B[0m                     \u001B[0mcurrent_position\u001B[0m\u001B[1;33m[\u001B[0m\u001B[0mi\u001B[0m\u001B[1;33m]\u001B[0m \u001B[1;33m-=\u001B[0m \u001B[1;36m1\u001B[0m\u001B[1;33m\u001B[0m\u001B[1;33m\u001B[0m\u001B[0m\n\u001B[0;32m    211\u001B[0m                 \u001B[1;32melif\u001B[0m \u001B[0maction\u001B[0m \u001B[1;33m==\u001B[0m \u001B[0mAction\u001B[0m\u001B[1;33m.\u001B[0m\u001B[0mGAP_J\u001B[0m\u001B[1;33m:\u001B[0m\u001B[1;33m\u001B[0m\u001B[1;33m\u001B[0m\u001B[0m\n",
      "\u001B[1;31mTypeError\u001B[0m: can only concatenate str (not \"NoneType\") to str"
     ]
    }
   ],
   "source": [],
   "metadata": {
    "collapsed": false
   }
  },
  {
   "cell_type": "code",
   "execution_count": 35,
   "outputs": [
    {
     "data": {
      "text/plain": "array([[ 0., -4., -4., -4.],\n       [-4.,  5.,  1., -3.],\n       [-4.,  1., 10.,  6.],\n       [-4., -3.,  6.,  8.]])"
     },
     "execution_count": 35,
     "metadata": {},
     "output_type": "execute_result"
    }
   ],
   "source": [
    "\n",
    "scores, backtrack = aligner.get_alignment_matrix([\"ABC\", \"ABD\"], method=\"global\")\n",
    "# aligner.get_alignment_matrix([\"ABC\", \"ABD\", \"CAB\"])\n",
    "scores"
   ],
   "metadata": {
    "collapsed": false
   }
  },
  {
   "cell_type": "code",
   "execution_count": 36,
   "outputs": [
    {
     "data": {
      "text/plain": "array([[[[4., 4.],\n         [4., 4.]],\n\n        [[0., 2.],\n         [0., 0.]],\n\n        [[0., 2.],\n         [0., 0.]],\n\n        [[0., 2.],\n         [0., 0.]]],\n\n\n       [[[0., 2.],\n         [0., 0.]],\n\n        [[0., 1.],\n         [0., 0.]],\n\n        [[0., 3.],\n         [0., 0.]],\n\n        [[0., 3.],\n         [0., 0.]]],\n\n\n       [[[0., 3.],\n         [0., 0.]],\n\n        [[0., 2.],\n         [0., 0.]],\n\n        [[0., 1.],\n         [0., 0.]],\n\n        [[0., 3.],\n         [0., 0.]]],\n\n\n       [[[0., 3.],\n         [0., 0.]],\n\n        [[0., 2.],\n         [0., 0.]],\n\n        [[0., 2.],\n         [0., 0.]],\n\n        [[0., 1.],\n         [0., 0.]]]])"
     },
     "execution_count": 36,
     "metadata": {},
     "output_type": "execute_result"
    }
   ],
   "source": [
    "backtrack"
   ],
   "metadata": {
    "collapsed": false
   }
  },
  {
   "cell_type": "code",
   "execution_count": 37,
   "outputs": [
    {
     "ename": "ValueError",
     "evalue": "The truth value of an array with more than one element is ambiguous. Use a.any() or a.all()",
     "output_type": "error",
     "traceback": [
      "\u001B[1;31m---------------------------------------------------------------------------\u001B[0m",
      "\u001B[1;31mValueError\u001B[0m                                Traceback (most recent call last)",
      "\u001B[1;32m~\\AppData\\Local\\Temp/ipykernel_12104/1607444603.py\u001B[0m in \u001B[0;36m<module>\u001B[1;34m\u001B[0m\n\u001B[1;32m----> 1\u001B[1;33m \u001B[0maligner\u001B[0m\u001B[1;33m.\u001B[0m\u001B[0mglobal_alignment\u001B[0m\u001B[1;33m(\u001B[0m\u001B[1;33m[\u001B[0m\u001B[1;34m\"ABC\"\u001B[0m\u001B[1;33m,\u001B[0m \u001B[1;34m\"ABD\"\u001B[0m\u001B[1;33m]\u001B[0m\u001B[1;33m)\u001B[0m\u001B[1;33m\u001B[0m\u001B[1;33m\u001B[0m\u001B[0m\n\u001B[0m",
      "\u001B[1;32m~\\AppData\\Local\\Temp/ipykernel_12104/2623449895.py\u001B[0m in \u001B[0;36mglobal_alignment\u001B[1;34m(self, sequences)\u001B[0m\n\u001B[0;32m    144\u001B[0m         \"\"\"\n\u001B[0;32m    145\u001B[0m         \u001B[0malignment_matrix\u001B[0m\u001B[1;33m,\u001B[0m \u001B[0mbacktrack_matrix\u001B[0m \u001B[1;33m=\u001B[0m \u001B[0mself\u001B[0m\u001B[1;33m.\u001B[0m\u001B[0mget_alignment_matrix\u001B[0m\u001B[1;33m(\u001B[0m\u001B[0msequences\u001B[0m\u001B[1;33m,\u001B[0m \u001B[0mmethod\u001B[0m\u001B[1;33m=\u001B[0m\u001B[1;34m\"global\"\u001B[0m\u001B[1;33m)\u001B[0m\u001B[1;33m\u001B[0m\u001B[1;33m\u001B[0m\u001B[0m\n\u001B[1;32m--> 146\u001B[1;33m         \u001B[1;32mreturn\u001B[0m \u001B[0mself\u001B[0m\u001B[1;33m.\u001B[0m\u001B[0m_get_alignment\u001B[0m\u001B[1;33m(\u001B[0m\u001B[0msequences\u001B[0m\u001B[1;33m,\u001B[0m \u001B[0malignment_matrix\u001B[0m\u001B[1;33m,\u001B[0m \u001B[0mbacktrack_matrix\u001B[0m\u001B[1;33m,\u001B[0m \u001B[0mmethod\u001B[0m\u001B[1;33m=\u001B[0m\u001B[1;34m\"global\"\u001B[0m\u001B[1;33m)\u001B[0m\u001B[1;33m\u001B[0m\u001B[1;33m\u001B[0m\u001B[0m\n\u001B[0m\u001B[0;32m    147\u001B[0m \u001B[1;33m\u001B[0m\u001B[0m\n\u001B[0;32m    148\u001B[0m     \u001B[1;32mdef\u001B[0m \u001B[0mlocal_alignment\u001B[0m\u001B[1;33m(\u001B[0m\u001B[0mself\u001B[0m\u001B[1;33m,\u001B[0m \u001B[0msequences\u001B[0m\u001B[1;33m:\u001B[0m \u001B[0mlist\u001B[0m\u001B[1;33m[\u001B[0m\u001B[0mstr\u001B[0m\u001B[1;33m]\u001B[0m\u001B[1;33m)\u001B[0m\u001B[1;33m:\u001B[0m\u001B[1;33m\u001B[0m\u001B[1;33m\u001B[0m\u001B[0m\n",
      "\u001B[1;32m~\\AppData\\Local\\Temp/ipykernel_12104/2623449895.py\u001B[0m in \u001B[0;36m_get_alignment\u001B[1;34m(self, sequences, alignment_matrix, backtrack_matrix, method)\u001B[0m\n\u001B[0;32m    174\u001B[0m \u001B[1;33m\u001B[0m\u001B[0m\n\u001B[0;32m    175\u001B[0m             \u001B[1;31m# if all actions are start, we are done\u001B[0m\u001B[1;33m\u001B[0m\u001B[1;33m\u001B[0m\u001B[0m\n\u001B[1;32m--> 176\u001B[1;33m             \u001B[1;32mif\u001B[0m \u001B[0mall\u001B[0m\u001B[1;33m(\u001B[0m\u001B[1;33m[\u001B[0m\u001B[0maction\u001B[0m \u001B[1;33m==\u001B[0m \u001B[0mAction\u001B[0m\u001B[1;33m.\u001B[0m\u001B[0mSTART\u001B[0m \u001B[1;32mfor\u001B[0m \u001B[0maction\u001B[0m \u001B[1;32min\u001B[0m \u001B[0mactions\u001B[0m\u001B[1;33m]\u001B[0m\u001B[1;33m)\u001B[0m\u001B[1;33m:\u001B[0m\u001B[1;33m\u001B[0m\u001B[1;33m\u001B[0m\u001B[0m\n\u001B[0m\u001B[0;32m    177\u001B[0m                 \u001B[1;32mbreak\u001B[0m\u001B[1;33m\u001B[0m\u001B[1;33m\u001B[0m\u001B[0m\n\u001B[0;32m    178\u001B[0m \u001B[1;33m\u001B[0m\u001B[0m\n",
      "\u001B[1;31mValueError\u001B[0m: The truth value of an array with more than one element is ambiguous. Use a.any() or a.all()"
     ]
    }
   ],
   "source": [],
   "metadata": {
    "collapsed": false
   }
  },
  {
   "cell_type": "code",
   "execution_count": 54,
   "outputs": [
    {
     "ename": "TypeError",
     "evalue": "'tuple' object does not support item assignment",
     "output_type": "error",
     "traceback": [
      "\u001B[1;31m---------------------------------------------------------------------------\u001B[0m",
      "\u001B[1;31mTypeError\u001B[0m                                 Traceback (most recent call last)",
      "\u001B[1;32m~\\AppData\\Local\\Temp/ipykernel_12104/1212367007.py\u001B[0m in \u001B[0;36m<module>\u001B[1;34m\u001B[0m\n\u001B[0;32m      1\u001B[0m \u001B[0ma\u001B[0m \u001B[1;33m=\u001B[0m \u001B[1;33m(\u001B[0m\u001B[1;36m1\u001B[0m\u001B[1;33m,\u001B[0m \u001B[1;36m2\u001B[0m\u001B[1;33m)\u001B[0m\u001B[1;33m\u001B[0m\u001B[1;33m\u001B[0m\u001B[0m\n\u001B[1;32m----> 2\u001B[1;33m \u001B[0ma\u001B[0m\u001B[1;33m[\u001B[0m\u001B[1;36m0\u001B[0m\u001B[1;33m]\u001B[0m \u001B[1;33m+=\u001B[0m \u001B[1;36m1\u001B[0m\u001B[1;33m\u001B[0m\u001B[1;33m\u001B[0m\u001B[0m\n\u001B[0m\u001B[0;32m      3\u001B[0m \u001B[0ma\u001B[0m\u001B[1;33m\u001B[0m\u001B[1;33m\u001B[0m\u001B[0m\n",
      "\u001B[1;31mTypeError\u001B[0m: 'tuple' object does not support item assignment"
     ]
    }
   ],
   "source": [
    "a = (1, 2)\n",
    "a[0] += 1\n",
    "a"
   ],
   "metadata": {
    "collapsed": false
   }
  },
  {
   "cell_type": "code",
   "execution_count": null,
   "outputs": [],
   "source": [],
   "metadata": {
    "collapsed": false
   }
  }
 ],
 "metadata": {
  "kernelspec": {
   "display_name": "Python 3",
   "language": "python",
   "name": "python3"
  },
  "language_info": {
   "codemirror_mode": {
    "name": "ipython",
    "version": 2
   },
   "file_extension": ".py",
   "mimetype": "text/x-python",
   "name": "python",
   "nbconvert_exporter": "python",
   "pygments_lexer": "ipython2",
   "version": "2.7.6"
  }
 },
 "nbformat": 4,
 "nbformat_minor": 0
}
